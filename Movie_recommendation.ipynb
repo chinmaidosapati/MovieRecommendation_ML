{
  "nbformat": 4,
  "nbformat_minor": 0,
  "metadata": {
    "colab": {
      "provenance": []
    },
    "kernelspec": {
      "name": "python3",
      "display_name": "Python 3"
    },
    "language_info": {
      "name": "python"
    }
  },
  "cells": [
    {
      "cell_type": "code",
      "execution_count": null,
      "metadata": {
        "colab": {
          "base_uri": "https://localhost:8080/"
        },
        "id": "UxC63qOmWYdv",
        "outputId": "77ea71dd-bc1a-4fee-f1a9-1984022db33f"
      },
      "outputs": [
        {
          "output_type": "stream",
          "name": "stdout",
          "text": [
            "Enter the emotion: Crime\n",
            "ok https://www.imdb.com/search/title/?title_type=feature&genres=crime\n",
            "\n",
            "1. Emilia Pérez\n",
            "\n",
            "2. Dog Man\n",
            "\n",
            "3. Flight Risk\n",
            "\n",
            "4. Den of Thieves 2: Pantera\n",
            "\n",
            "5. Pushpa: The Rule - Part 2\n",
            "\n",
            "6. The Order\n",
            "\n",
            "7. Juror #2\n"
          ]
        }
      ],
      "source": [
        "import requests\n",
        "from bs4 import BeautifulSoup\n",
        "import re\n",
        "\n",
        "URLS = {\n",
        "    \"Drama\": 'https://www.imdb.com/search/title/?title_type=feature&genres=drama',\n",
        "    \"Action\": 'https://www.imdb.com/search/title/?title_type=feature&genres=action',\n",
        "    \"Comedy\": 'https://www.imdb.com/search/title/?title_type=feature&genres=comedy',\n",
        "    \"Horror\": 'https://www.imdb.com/search/title/?title_type=feature&genres=horror',\n",
        "    \"Crime\": 'https://www.imdb.com/search/title/?title_type=feature&genres=crime',\n",
        "}\n",
        "\n",
        "def main(emotions):\n",
        "    url = URLS.get(emotions)\n",
        "    print(\"ok\", url)\n",
        "    if not url:\n",
        "        print(\"Invalid emotion\")\n",
        "        return []  # This return is now inside the main function\n",
        "\n",
        "    headers = {'User-Agent': 'Mozilla/5.0 (Windows NT 10.0; Win64; x64) AppleWebKit/537.36 (KHTML, like Gecko) Chrome/91.0.4472.124 Safari/537.36'}\n",
        "\n",
        "    try:\n",
        "        response = requests.get(url, headers=headers)\n",
        "        response.raise_for_status()  # Check for HTTP errors\n",
        "    except requests.RequestException as e:\n",
        "        print(f\"Error fetching data: {e}\")\n",
        "        return [] # This return is now inside the main function\n",
        "\n",
        "    soup = BeautifulSoup(response.text, \"lxml\")\n",
        "    titles = [a.get_text() for a in soup.find_all('a', href=re.compile(r'/title/tt\\d+/'))]\n",
        "    return titles  # This return is now inside the main function\n",
        "\n",
        "if __name__ == '__main__':\n",
        "    emotion = input(\"Enter the emotion: \").strip()\n",
        "    movie_titles = main(emotion)\n",
        "\n",
        "    if not movie_titles:\n",
        "        print(\"No titles found.\")\n",
        "    else:\n",
        "        max_titles = 14 if emotion in [\"Drama\", \"Action\", \"Comedy\", \"Horror\", \"Crime\"] else 12\n",
        "        for title in movie_titles[:max_titles]:\n",
        "            print(title)\n",
        "\n",
        "\n",
        "\n",
        "\n"
      ]
    }
  ]
}